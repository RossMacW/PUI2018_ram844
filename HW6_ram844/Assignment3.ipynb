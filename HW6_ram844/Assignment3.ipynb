{
 "cells": [
  {
   "cell_type": "code",
   "execution_count": 3,
   "metadata": {},
   "outputs": [
    {
     "name": "stdout",
     "output_type": "stream",
     "text": [
      "Populating the interactive namespace from numpy and matplotlib\n"
     ]
    }
   ],
   "source": [
    "import os\n",
    "import sys\n",
    "import numpy as np\n",
    "import pylab as pl\n",
    "# a function I wrote to evaluate chi square. It is in evalChisq.py\n",
    "from evalChisq import evalChisq\n",
    "\n",
    "\n",
    "import json\n",
    "import os\n",
    "s = json.load( open(os.getenv(\"PUI2016\")+\"/fbb_matplotlibrc.json\") )\n",
    "pl.rcParams.update(s)\n",
    "\n",
    "%pylab inline\n",
    "\n",
    "from IPython.display import Image\n",
    "Image(filename='../plotsforclasses/NYCReentryprogram_title.png')"
   ]
  },
  {
   "cell_type": "code",
   "execution_count": 6,
   "metadata": {},
   "outputs": [
    {
     "name": "stdout",
     "output_type": "stream",
     "text": [
      "we must assess the statistical significance\n"
     ]
    }
   ],
   "source": [
    "# first thing: choose your significance threshold\n",
    "alpha=0.05\n",
    "\n",
    "\n",
    "\n",
    "# we like fractions better then percentages. as a rule of thumb, either use fractions or counts. \n",
    "# 0 for control group, 1 for program group\n",
    "\n",
    "P_0 = 3.5 * 0.01 \n",
    "P_1 = 70.1 * 0.01\n",
    "\n",
    "if P_0 - P_1 >= 0:\n",
    "    # we are done\n",
    "    print (\"the Null holds\")\n",
    "else:\n",
    "    print (\"we must assess the statistical significance\")\n",
    "\n",
    "#sample sizes \n",
    "\n",
    "n_0 = 409\n",
    "n_1 = 564\n",
    "    \n",
    "#lets get the counts by multiplying by the sample size\n",
    "\n",
    "Nt_0 = P_0 * n_0\n",
    "Nt_1 = P_1 * n_1"
   ]
  },
  {
   "cell_type": "code",
   "execution_count": 7,
   "metadata": {},
   "outputs": [
    {
     "name": "stdout",
     "output_type": "stream",
     "text": [
      "0.4210472764645426\n"
     ]
    }
   ],
   "source": [
    "\n",
    "#define the sample proportion first\n",
    "sp = (P_0 * n_0 + P_1 * n_1) / (n_1 + n_0)\n",
    "print (sp)"
   ]
  },
  {
   "cell_type": "code",
   "execution_count": 8,
   "metadata": {},
   "outputs": [],
   "source": [
    "# I am goonna create a little one line function to calculate the standard error\n",
    "# and to calculate p\n",
    "\n",
    "p = lambda p0, p1, n0, n1: (p0 * n0 + p1 * n1) / (n0 + n1)\n",
    "#standard error\n",
    "se = lambda p, n0, n1: np.sqrt(p * (1 - p) * (1.0 / n0 + 1.0 / n1))"
   ]
  },
  {
   "cell_type": "code",
   "execution_count": 9,
   "metadata": {},
   "outputs": [
    {
     "name": "stdout",
     "output_type": "stream",
     "text": [
      "20.7697865408\n"
     ]
    }
   ],
   "source": [
    "zscore = lambda p0, p1, s : (p0 - p1) / s\n",
    "z_2y = zscore(P_1, P_0, se(p(P_0, P_1, n_0, n_1), n_0, n_1))\n",
    "print (z_2y)"
   ]
  },
  {
   "cell_type": "code",
   "execution_count": 10,
   "metadata": {},
   "outputs": [
    {
     "name": "stdout",
     "output_type": "stream",
     "text": [
      "is the p value 0.00 smaller than the critical value 0.05?\n",
      "YES!\n",
      "the Null hypothesis is rejected\n"
     ]
    }
   ],
   "source": [
    "\n",
    "## p-value for employment after 2 years: \n",
    "## since the largest number we read off the table for is (way) smaller \n",
    "## than the value for our statistic \n",
    "## our p-value will be smaller than it would be if calculated using \n",
    "## (e.g.) .9998 (and in fact using 1.0000 which is the largest number \n",
    "## in the table). Using 0.9998 is a **conservative** approach. \n",
    "\n",
    "p_2y = 1 - 0.9984\n",
    "\n",
    "\n",
    "def report_result(p,a):\n",
    "    print ('is the p value ' + \n",
    "           '{0:.2f} smaller than the critical value {1:.2f}?'.format(p,a))\n",
    "    if p < a:\n",
    "        print (\"YES!\")\n",
    "    else: \n",
    "        print (\"NO!\")\n",
    "    \n",
    "    print ('the Null hypothesis is {}'.format(\\\n",
    "                            'rejected' if p < a  else 'not rejected') )\n",
    "\n",
    "    \n",
    "report_result(p_2y, alpha)"
   ]
  },
  {
   "cell_type": "code",
   "execution_count": 11,
   "metadata": {},
   "outputs": [
    {
     "ename": "ImportError",
     "evalue": "No module named 'evalChisq'",
     "output_type": "error",
     "traceback": [
      "\u001b[0;31m---------------------------------------------------------------------------\u001b[0m",
      "\u001b[0;31mImportError\u001b[0m                               Traceback (most recent call last)",
      "\u001b[0;32m<ipython-input-11-f716d3f93338>\u001b[0m in \u001b[0;36m<module>\u001b[0;34m()\u001b[0m\n\u001b[0;32m----> 1\u001b[0;31m \u001b[0;32mfrom\u001b[0m \u001b[0mevalChisq\u001b[0m \u001b[0;32mimport\u001b[0m \u001b[0mevalChisq\u001b[0m\u001b[0;34m\u001b[0m\u001b[0m\n\u001b[0m",
      "\u001b[0;31mImportError\u001b[0m: No module named 'evalChisq'"
     ]
    }
   ],
   "source": [
    "from evalChisq import evalChisq"
   ]
  },
  {
   "cell_type": "code",
   "execution_count": null,
   "metadata": {},
   "outputs": [],
   "source": []
  },
  {
   "cell_type": "code",
   "execution_count": null,
   "metadata": {},
   "outputs": [],
   "source": []
  },
  {
   "cell_type": "code",
   "execution_count": 5,
   "metadata": {},
   "outputs": [
    {
     "name": "stdout",
     "output_type": "stream",
     "text": [
      "0.11699999999999999\n",
      "0.1\n"
     ]
    }
   ],
   "source": [
    "P_0 = 11.7 * 0.01\n",
    "P_1 = 10 * 0.01\n",
    "print (P_0)\n",
    "print (P_1)"
   ]
  },
  {
   "cell_type": "code",
   "execution_count": null,
   "metadata": {},
   "outputs": [],
   "source": [
    "$H_0$?\n",
    "$H_a$?\n",
    "\n",
    "$P_0 = ??, P_1 = ??$"
   ]
  }
 ],
 "metadata": {
  "kernelspec": {
   "display_name": "PUI2016_Python3",
   "language": "python",
   "name": "pui2016_python3"
  },
  "language_info": {
   "codemirror_mode": {
    "name": "ipython",
    "version": 3
   },
   "file_extension": ".py",
   "mimetype": "text/x-python",
   "name": "python",
   "nbconvert_exporter": "python",
   "pygments_lexer": "ipython3",
   "version": "3.5.4"
  }
 },
 "nbformat": 4,
 "nbformat_minor": 2
}
