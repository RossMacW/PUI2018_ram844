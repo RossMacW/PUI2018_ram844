{
 "cells": [
  {
   "cell_type": "code",
   "execution_count": 2,
   "metadata": {},
   "outputs": [],
   "source": [
    "# gathering, reading, and plotting data\n",
    "# developed by FBB for PUI in 2018\n",
    "# modified by Ross MacWhinney for Homework 3\n",
    "# uses NYC data portal NYC OPEN DATA https://data.cityofnewyork.us/\n",
    "from __future__ import print_function\n",
    "import os\n",
    "import pandas as pd\n",
    "import numpy as np"
   ]
  },
  {
   "cell_type": "code",
   "execution_count": 19,
   "metadata": {},
   "outputs": [
    {
     "name": "stdout",
     "output_type": "stream",
     "text": [
      "  % Total    % Received % Xferd  Average Speed   Time    Time     Time  Current\n",
      "                                 Dload  Upload   Total   Spent    Left  Speed\n",
      "100 8086k    0 8086k    0     0  4394k      0 --:--:--  0:00:01 --:--:-- 4396k\n"
     ]
    }
   ],
   "source": [
    "!curl https://data.cityofnewyork.us/api/views/8u86-bviy/rows.csv?accessType=DOWNLOAD > energy16.csv"
   ]
  },
  {
   "cell_type": "code",
   "execution_count": 20,
   "metadata": {},
   "outputs": [
    {
     "name": "stdout",
     "output_type": "stream",
     "text": [
      "PUIdata /nfshome/ram844/PUIdata\n"
     ]
    }
   ],
   "source": [
    "# move the downloaded data to PUI data\n",
    "print(\"PUIdata\", os.getenv(\"PUIDATA\"))"
   ]
  },
  {
   "cell_type": "code",
   "execution_count": 21,
   "metadata": {},
   "outputs": [
    {
     "name": "stdout",
     "output_type": "stream",
     "text": [
      "PUIdata /nfshome/ram844/PUIdata\n"
     ]
    }
   ],
   "source": [
    "#create the env variable if missing\n",
    "os.environ[\"PUIDATA\"] = \"%s/PUIdata\"%os.getenv(\"HOME\")\n",
    "\n",
    "print(\"PUIdata\", os.getenv(\"PUIDATA\"))"
   ]
  },
  {
   "cell_type": "code",
   "execution_count": 22,
   "metadata": {},
   "outputs": [],
   "source": [
    "# move the data\n",
    "!mv energy16.csv $PUIDATA"
   ]
  },
  {
   "cell_type": "code",
   "execution_count": 23,
   "metadata": {},
   "outputs": [
    {
     "name": "stdout",
     "output_type": "stream",
     "text": [
      "airquality.csv\tdhsdaily.csv  energy16.csv\t  muninrg.csv\r\n",
      "collision.csv\tenergy14.csv  familyviolence.csv\r\n"
     ]
    }
   ],
   "source": [
    "#test if the data is there\n",
    "!ls $PUIDATA"
   ]
  },
  {
   "cell_type": "code",
   "execution_count": 24,
   "metadata": {},
   "outputs": [],
   "source": [
    "#read in the data with pandas\n",
    "nrg = pd.read_csv(\"%s/energy16.csv\"%os.getenv(\"PUIDATA\"))"
   ]
  },
  {
   "cell_type": "code",
   "execution_count": 25,
   "metadata": {},
   "outputs": [
    {
     "data": {
      "text/html": [
       "<div>\n",
       "<table border=\"1\" class=\"dataframe\">\n",
       "  <thead>\n",
       "    <tr style=\"text-align: right;\">\n",
       "      <th></th>\n",
       "      <th>Order</th>\n",
       "      <th>Property Id</th>\n",
       "      <th>Property Name</th>\n",
       "      <th>Parent Property Id</th>\n",
       "      <th>Parent Property Name</th>\n",
       "      <th>BBL - 10 digits</th>\n",
       "      <th>NYC Borough, Block and Lot (BBL) self-reported</th>\n",
       "      <th>NYC Building Identification Number (BIN)</th>\n",
       "      <th>Address 1 (self-reported)</th>\n",
       "      <th>Address 2</th>\n",
       "      <th>...</th>\n",
       "      <th>Source EUI (kBtu/ft²)</th>\n",
       "      <th>Release Date</th>\n",
       "      <th>Water Required?</th>\n",
       "      <th>DOF Benchmarking Submission Status</th>\n",
       "      <th>Latitude</th>\n",
       "      <th>Longitude</th>\n",
       "      <th>Community Board</th>\n",
       "      <th>Council District</th>\n",
       "      <th>Census Tract</th>\n",
       "      <th>NTA</th>\n",
       "    </tr>\n",
       "  </thead>\n",
       "  <tbody>\n",
       "    <tr>\n",
       "      <th>0</th>\n",
       "      <td>1</td>\n",
       "      <td>13286</td>\n",
       "      <td>201/205</td>\n",
       "      <td>13286</td>\n",
       "      <td>201/205</td>\n",
       "      <td>1013160001</td>\n",
       "      <td>1013160001</td>\n",
       "      <td>1037549</td>\n",
       "      <td>201/205  East  42nd  st.</td>\n",
       "      <td>Not Available</td>\n",
       "      <td>...</td>\n",
       "      <td>619.4</td>\n",
       "      <td>05/01/2017 05:32:03 PM</td>\n",
       "      <td>No</td>\n",
       "      <td>In Compliance</td>\n",
       "      <td>40.750791</td>\n",
       "      <td>-73.973963</td>\n",
       "      <td>6.0</td>\n",
       "      <td>4.0</td>\n",
       "      <td>88.0</td>\n",
       "      <td>Turtle Bay-East Midtown                       ...</td>\n",
       "    </tr>\n",
       "    <tr>\n",
       "      <th>1</th>\n",
       "      <td>2</td>\n",
       "      <td>28400</td>\n",
       "      <td>NYP Columbia (West Campus)</td>\n",
       "      <td>28400</td>\n",
       "      <td>NYP Columbia (West Campus)</td>\n",
       "      <td>1021380040</td>\n",
       "      <td>1-02138-0040</td>\n",
       "      <td>1084198; 1084387;1084385; 1084386; 1084388; 10...</td>\n",
       "      <td>622 168th Street</td>\n",
       "      <td>Not Available</td>\n",
       "      <td>...</td>\n",
       "      <td>404.3</td>\n",
       "      <td>04/27/2017 11:23:27 AM</td>\n",
       "      <td>No</td>\n",
       "      <td>In Compliance</td>\n",
       "      <td>40.841402</td>\n",
       "      <td>-73.942568</td>\n",
       "      <td>12.0</td>\n",
       "      <td>10.0</td>\n",
       "      <td>251.0</td>\n",
       "      <td>Washington Heights South                      ...</td>\n",
       "    </tr>\n",
       "    <tr>\n",
       "      <th>2</th>\n",
       "      <td>3</td>\n",
       "      <td>4778226</td>\n",
       "      <td>MSCHoNY North</td>\n",
       "      <td>28400</td>\n",
       "      <td>NYP Columbia (West Campus)</td>\n",
       "      <td>1021380030</td>\n",
       "      <td>1-02138-0030</td>\n",
       "      <td>1063380</td>\n",
       "      <td>3975 Broadway</td>\n",
       "      <td>Not Available</td>\n",
       "      <td>...</td>\n",
       "      <td>Not Available</td>\n",
       "      <td>04/27/2017 11:23:27 AM</td>\n",
       "      <td>No</td>\n",
       "      <td>In Compliance</td>\n",
       "      <td>40.840427</td>\n",
       "      <td>-73.940249</td>\n",
       "      <td>12.0</td>\n",
       "      <td>10.0</td>\n",
       "      <td>251.0</td>\n",
       "      <td>Washington Heights South                      ...</td>\n",
       "    </tr>\n",
       "    <tr>\n",
       "      <th>3</th>\n",
       "      <td>4</td>\n",
       "      <td>4778267</td>\n",
       "      <td>Herbert Irving Pavilion &amp; Millstein Hospital</td>\n",
       "      <td>28400</td>\n",
       "      <td>NYP Columbia (West Campus)</td>\n",
       "      <td>1021390001</td>\n",
       "      <td>1-02139-0001</td>\n",
       "      <td>1087281; 1076746</td>\n",
       "      <td>161 Fort Washington Ave</td>\n",
       "      <td>177 Fort Washington Ave</td>\n",
       "      <td>...</td>\n",
       "      <td>Not Available</td>\n",
       "      <td>04/27/2017 11:23:27 AM</td>\n",
       "      <td>No</td>\n",
       "      <td>In Compliance</td>\n",
       "      <td>40.840746</td>\n",
       "      <td>-73.942854</td>\n",
       "      <td>12.0</td>\n",
       "      <td>10.0</td>\n",
       "      <td>255.0</td>\n",
       "      <td>Washington Heights South                      ...</td>\n",
       "    </tr>\n",
       "    <tr>\n",
       "      <th>4</th>\n",
       "      <td>5</td>\n",
       "      <td>4778288</td>\n",
       "      <td>Neuro Institute</td>\n",
       "      <td>28400</td>\n",
       "      <td>NYP Columbia (West Campus)</td>\n",
       "      <td>1021390085</td>\n",
       "      <td>1-02139-0085</td>\n",
       "      <td>1063403</td>\n",
       "      <td>710 West 168th Street</td>\n",
       "      <td>Not Available</td>\n",
       "      <td>...</td>\n",
       "      <td>Not Available</td>\n",
       "      <td>04/27/2017 11:23:27 AM</td>\n",
       "      <td>No</td>\n",
       "      <td>In Compliance</td>\n",
       "      <td>40.841559</td>\n",
       "      <td>-73.942528</td>\n",
       "      <td>12.0</td>\n",
       "      <td>10.0</td>\n",
       "      <td>255.0</td>\n",
       "      <td>Washington Heights South                      ...</td>\n",
       "    </tr>\n",
       "    <tr>\n",
       "      <th>5</th>\n",
       "      <td>6</td>\n",
       "      <td>28402</td>\n",
       "      <td>NYP Cornell (East Campus)</td>\n",
       "      <td>28402</td>\n",
       "      <td>NYP Cornell (East Campus)</td>\n",
       "      <td>1014800001</td>\n",
       "      <td>1-01480-0001</td>\n",
       "      <td>1084781; 1084780</td>\n",
       "      <td>525 East 68th Street</td>\n",
       "      <td>Not Available</td>\n",
       "      <td>...</td>\n",
       "      <td>414.2</td>\n",
       "      <td>04/27/2017 11:23:27 AM</td>\n",
       "      <td>No</td>\n",
       "      <td>In Compliance</td>\n",
       "      <td>40.761395</td>\n",
       "      <td>-73.957726</td>\n",
       "      <td>8.0</td>\n",
       "      <td>5.0</td>\n",
       "      <td>116.0</td>\n",
       "      <td>Lenox Hill-Roosevelt Island                   ...</td>\n",
       "    </tr>\n",
       "    <tr>\n",
       "      <th>6</th>\n",
       "      <td>7</td>\n",
       "      <td>4778352</td>\n",
       "      <td>Annex Building &amp; Garage</td>\n",
       "      <td>28402</td>\n",
       "      <td>NYP Cornell (East Campus)</td>\n",
       "      <td>1014820040</td>\n",
       "      <td>1-01482-0040</td>\n",
       "      <td>1081252</td>\n",
       "      <td>523 East 70th St</td>\n",
       "      <td>515 East 70th St</td>\n",
       "      <td>...</td>\n",
       "      <td>Not Available</td>\n",
       "      <td>04/27/2017 11:23:27 AM</td>\n",
       "      <td>Yes</td>\n",
       "      <td>In Compliance</td>\n",
       "      <td>40.765949</td>\n",
       "      <td>-73.953752</td>\n",
       "      <td>8.0</td>\n",
       "      <td>5.0</td>\n",
       "      <td>124.0</td>\n",
       "      <td>Lenox Hill-Roosevelt Island                   ...</td>\n",
       "    </tr>\n",
       "    <tr>\n",
       "      <th>7</th>\n",
       "      <td>10</td>\n",
       "      <td>2610789</td>\n",
       "      <td>North Shore Towers</td>\n",
       "      <td>2610789</td>\n",
       "      <td>North Shore Towers</td>\n",
       "      <td>4084890001</td>\n",
       "      <td>4084890001</td>\n",
       "      <td>4456886;4456885;4453535;4456888</td>\n",
       "      <td>270-10 Grand Central Parkway</td>\n",
       "      <td>269-271-10 Grand Central Parkway</td>\n",
       "      <td>...</td>\n",
       "      <td>151172.9</td>\n",
       "      <td>04/28/2017 07:44:37 AM</td>\n",
       "      <td>Yes</td>\n",
       "      <td>In Compliance</td>\n",
       "      <td>40.757859</td>\n",
       "      <td>-73.715543</td>\n",
       "      <td>13.0</td>\n",
       "      <td>23.0</td>\n",
       "      <td>155101.0</td>\n",
       "      <td>Glen Oaks-Floral Park-New Hyde Park           ...</td>\n",
       "    </tr>\n",
       "  </tbody>\n",
       "</table>\n",
       "<p>8 rows × 60 columns</p>\n",
       "</div>"
      ],
      "text/plain": [
       "   Order  Property Id                                 Property Name  \\\n",
       "0      1        13286                                       201/205   \n",
       "1      2        28400                    NYP Columbia (West Campus)   \n",
       "2      3      4778226                                 MSCHoNY North   \n",
       "3      4      4778267  Herbert Irving Pavilion & Millstein Hospital   \n",
       "4      5      4778288                               Neuro Institute   \n",
       "5      6        28402                     NYP Cornell (East Campus)   \n",
       "6      7      4778352                       Annex Building & Garage   \n",
       "7     10      2610789                            North Shore Towers   \n",
       "\n",
       "  Parent Property Id        Parent Property Name BBL - 10 digits  \\\n",
       "0              13286                     201/205      1013160001   \n",
       "1              28400  NYP Columbia (West Campus)      1021380040   \n",
       "2              28400  NYP Columbia (West Campus)      1021380030   \n",
       "3              28400  NYP Columbia (West Campus)      1021390001   \n",
       "4              28400  NYP Columbia (West Campus)      1021390085   \n",
       "5              28402   NYP Cornell (East Campus)      1014800001   \n",
       "6              28402   NYP Cornell (East Campus)      1014820040   \n",
       "7            2610789          North Shore Towers      4084890001   \n",
       "\n",
       "  NYC Borough, Block and Lot (BBL) self-reported  \\\n",
       "0                                     1013160001   \n",
       "1                                   1-02138-0040   \n",
       "2                                   1-02138-0030   \n",
       "3                                   1-02139-0001   \n",
       "4                                   1-02139-0085   \n",
       "5                                   1-01480-0001   \n",
       "6                                   1-01482-0040   \n",
       "7                                     4084890001   \n",
       "\n",
       "            NYC Building Identification Number (BIN)  \\\n",
       "0                                            1037549   \n",
       "1  1084198; 1084387;1084385; 1084386; 1084388; 10...   \n",
       "2                                            1063380   \n",
       "3                                   1087281; 1076746   \n",
       "4                                            1063403   \n",
       "5                                   1084781; 1084780   \n",
       "6                                            1081252   \n",
       "7                    4456886;4456885;4453535;4456888   \n",
       "\n",
       "      Address 1 (self-reported)                         Address 2  \\\n",
       "0      201/205  East  42nd  st.                     Not Available   \n",
       "1              622 168th Street                     Not Available   \n",
       "2                 3975 Broadway                     Not Available   \n",
       "3       161 Fort Washington Ave           177 Fort Washington Ave   \n",
       "4         710 West 168th Street                     Not Available   \n",
       "5          525 East 68th Street                     Not Available   \n",
       "6              523 East 70th St                  515 East 70th St   \n",
       "7  270-10 Grand Central Parkway  269-271-10 Grand Central Parkway   \n",
       "\n",
       "                         ...                         Source EUI (kBtu/ft²)  \\\n",
       "0                        ...                                         619.4   \n",
       "1                        ...                                         404.3   \n",
       "2                        ...                                 Not Available   \n",
       "3                        ...                                 Not Available   \n",
       "4                        ...                                 Not Available   \n",
       "5                        ...                                         414.2   \n",
       "6                        ...                                 Not Available   \n",
       "7                        ...                                      151172.9   \n",
       "\n",
       "             Release Date Water Required? DOF Benchmarking Submission Status  \\\n",
       "0  05/01/2017 05:32:03 PM              No                      In Compliance   \n",
       "1  04/27/2017 11:23:27 AM              No                      In Compliance   \n",
       "2  04/27/2017 11:23:27 AM              No                      In Compliance   \n",
       "3  04/27/2017 11:23:27 AM              No                      In Compliance   \n",
       "4  04/27/2017 11:23:27 AM              No                      In Compliance   \n",
       "5  04/27/2017 11:23:27 AM              No                      In Compliance   \n",
       "6  04/27/2017 11:23:27 AM             Yes                      In Compliance   \n",
       "7  04/28/2017 07:44:37 AM             Yes                      In Compliance   \n",
       "\n",
       "    Latitude  Longitude Community Board Council District Census Tract  \\\n",
       "0  40.750791 -73.973963             6.0              4.0         88.0   \n",
       "1  40.841402 -73.942568            12.0             10.0        251.0   \n",
       "2  40.840427 -73.940249            12.0             10.0        251.0   \n",
       "3  40.840746 -73.942854            12.0             10.0        255.0   \n",
       "4  40.841559 -73.942528            12.0             10.0        255.0   \n",
       "5  40.761395 -73.957726             8.0              5.0        116.0   \n",
       "6  40.765949 -73.953752             8.0              5.0        124.0   \n",
       "7  40.757859 -73.715543            13.0             23.0     155101.0   \n",
       "\n",
       "                                                 NTA  \n",
       "0  Turtle Bay-East Midtown                       ...  \n",
       "1  Washington Heights South                      ...  \n",
       "2  Washington Heights South                      ...  \n",
       "3  Washington Heights South                      ...  \n",
       "4  Washington Heights South                      ...  \n",
       "5  Lenox Hill-Roosevelt Island                   ...  \n",
       "6  Lenox Hill-Roosevelt Island                   ...  \n",
       "7  Glen Oaks-Floral Park-New Hyde Park           ...  \n",
       "\n",
       "[8 rows x 60 columns]"
      ]
     },
     "execution_count": 25,
     "metadata": {},
     "output_type": "execute_result"
    }
   ],
   "source": [
    "#print the fist 8 lines out\n",
    "nrg.head(8)"
   ]
  },
  {
   "cell_type": "code",
   "execution_count": 26,
   "metadata": {},
   "outputs": [
    {
     "data": {
      "text/html": [
       "<div>\n",
       "<table border=\"1\" class=\"dataframe\">\n",
       "  <thead>\n",
       "    <tr style=\"text-align: right;\">\n",
       "      <th></th>\n",
       "      <th>Order</th>\n",
       "      <th>Property Id</th>\n",
       "      <th>Property Name</th>\n",
       "      <th>Parent Property Id</th>\n",
       "      <th>Parent Property Name</th>\n",
       "      <th>BBL - 10 digits</th>\n",
       "      <th>NYC Borough, Block and Lot (BBL) self-reported</th>\n",
       "      <th>NYC Building Identification Number (BIN)</th>\n",
       "      <th>Address 1 (self-reported)</th>\n",
       "      <th>Address 2</th>\n",
       "      <th>...</th>\n",
       "      <th>Source EUI (kBtu/ft²)</th>\n",
       "      <th>Release Date</th>\n",
       "      <th>Water Required?</th>\n",
       "      <th>DOF Benchmarking Submission Status</th>\n",
       "      <th>Latitude</th>\n",
       "      <th>Longitude</th>\n",
       "      <th>Community Board</th>\n",
       "      <th>Council District</th>\n",
       "      <th>Census Tract</th>\n",
       "      <th>NTA</th>\n",
       "    </tr>\n",
       "  </thead>\n",
       "  <tbody>\n",
       "    <tr>\n",
       "      <th>11743</th>\n",
       "      <td>14990</td>\n",
       "      <td>4628296</td>\n",
       "      <td>(9267) - 267 Sixth St</td>\n",
       "      <td>Not Applicable: Standalone Property</td>\n",
       "      <td>Not Applicable: Standalone Property</td>\n",
       "      <td>3009870001​</td>\n",
       "      <td>3-00987-0001​</td>\n",
       "      <td>3413788; 3021326</td>\n",
       "      <td>267 6th Street</td>\n",
       "      <td>Not Available</td>\n",
       "      <td>...</td>\n",
       "      <td>103.6</td>\n",
       "      <td>03/23/2017 02:51:02 PM</td>\n",
       "      <td>NaN</td>\n",
       "      <td>NaN</td>\n",
       "      <td>NaN</td>\n",
       "      <td>NaN</td>\n",
       "      <td>NaN</td>\n",
       "      <td>NaN</td>\n",
       "      <td>NaN</td>\n",
       "      <td>NaN</td>\n",
       "    </tr>\n",
       "    <tr>\n",
       "      <th>11744</th>\n",
       "      <td>14991</td>\n",
       "      <td>4940464</td>\n",
       "      <td>Advanced: 27 Prospect Park West</td>\n",
       "      <td>Not Applicable: Standalone Property</td>\n",
       "      <td>Not Applicable: Standalone Property</td>\n",
       "      <td>3010720040</td>\n",
       "      <td>3-01072-0040\\t</td>\n",
       "      <td>3024968;3824680</td>\n",
       "      <td>27 Prospect Park West</td>\n",
       "      <td>Not Available</td>\n",
       "      <td>...</td>\n",
       "      <td>92.7</td>\n",
       "      <td>04/26/2017 11:20:06 AM</td>\n",
       "      <td>NaN</td>\n",
       "      <td>NaN</td>\n",
       "      <td>40.670728</td>\n",
       "      <td>-73.971752</td>\n",
       "      <td>6.0</td>\n",
       "      <td>39.0</td>\n",
       "      <td>165.0</td>\n",
       "      <td>Park Slope-Gowanus                            ...</td>\n",
       "    </tr>\n",
       "    <tr>\n",
       "      <th>11745</th>\n",
       "      <td>14993</td>\n",
       "      <td>4952165</td>\n",
       "      <td>Tryad: 420 Clinton Ave</td>\n",
       "      <td>Not Applicable: Standalone Property</td>\n",
       "      <td>Not Applicable: Standalone Property</td>\n",
       "      <td>3019600022</td>\n",
       "      <td>3-01960-0022\\t</td>\n",
       "      <td>3055969</td>\n",
       "      <td>420 Clinton Ave\\t</td>\n",
       "      <td>Not Available</td>\n",
       "      <td>...</td>\n",
       "      <td>161.9</td>\n",
       "      <td>04/27/2017 06:37:53 AM</td>\n",
       "      <td>Yes</td>\n",
       "      <td>NaN</td>\n",
       "      <td>40.685549</td>\n",
       "      <td>-73.968310</td>\n",
       "      <td>2.0</td>\n",
       "      <td>35.0</td>\n",
       "      <td>199.0</td>\n",
       "      <td>Clinton Hill                                  ...</td>\n",
       "    </tr>\n",
       "  </tbody>\n",
       "</table>\n",
       "<p>3 rows × 60 columns</p>\n",
       "</div>"
      ],
      "text/plain": [
       "       Order  Property Id                    Property Name  \\\n",
       "11743  14990      4628296            (9267) - 267 Sixth St   \n",
       "11744  14991      4940464  Advanced: 27 Prospect Park West   \n",
       "11745  14993      4952165           Tryad: 420 Clinton Ave   \n",
       "\n",
       "                        Parent Property Id  \\\n",
       "11743  Not Applicable: Standalone Property   \n",
       "11744  Not Applicable: Standalone Property   \n",
       "11745  Not Applicable: Standalone Property   \n",
       "\n",
       "                      Parent Property Name BBL - 10 digits  \\\n",
       "11743  Not Applicable: Standalone Property     3009870001​   \n",
       "11744  Not Applicable: Standalone Property      3010720040   \n",
       "11745  Not Applicable: Standalone Property      3019600022   \n",
       "\n",
       "      NYC Borough, Block and Lot (BBL) self-reported  \\\n",
       "11743                                  3-00987-0001​   \n",
       "11744                                 3-01072-0040\\t   \n",
       "11745                                 3-01960-0022\\t   \n",
       "\n",
       "      NYC Building Identification Number (BIN) Address 1 (self-reported)  \\\n",
       "11743                         3413788; 3021326            267 6th Street   \n",
       "11744                          3024968;3824680     27 Prospect Park West   \n",
       "11745                                  3055969         420 Clinton Ave\\t   \n",
       "\n",
       "           Address 2                        ...                          \\\n",
       "11743  Not Available                        ...                           \n",
       "11744  Not Available                        ...                           \n",
       "11745  Not Available                        ...                           \n",
       "\n",
       "      Source EUI (kBtu/ft²)            Release Date Water Required?  \\\n",
       "11743                 103.6  03/23/2017 02:51:02 PM             NaN   \n",
       "11744                  92.7  04/26/2017 11:20:06 AM             NaN   \n",
       "11745                 161.9  04/27/2017 06:37:53 AM             Yes   \n",
       "\n",
       "      DOF Benchmarking Submission Status   Latitude  Longitude  \\\n",
       "11743                                NaN        NaN        NaN   \n",
       "11744                                NaN  40.670728 -73.971752   \n",
       "11745                                NaN  40.685549 -73.968310   \n",
       "\n",
       "      Community Board Council District Census Tract  \\\n",
       "11743             NaN              NaN          NaN   \n",
       "11744             6.0             39.0        165.0   \n",
       "11745             2.0             35.0        199.0   \n",
       "\n",
       "                                                     NTA  \n",
       "11743                                                NaN  \n",
       "11744  Park Slope-Gowanus                            ...  \n",
       "11745  Clinton Hill                                  ...  \n",
       "\n",
       "[3 rows x 60 columns]"
      ]
     },
     "execution_count": 26,
     "metadata": {},
     "output_type": "execute_result"
    }
   ],
   "source": [
    "#print the last 3 lines out\n",
    "nrg.tail(3)"
   ]
  },
  {
   "cell_type": "code",
   "execution_count": 27,
   "metadata": {},
   "outputs": [
    {
     "data": {
      "text/plain": [
       "Index([u'Order', u'Property Id', u'Property Name', u'Parent Property Id',\n",
       "       u'Parent Property Name', u'BBL - 10 digits',\n",
       "       u'NYC Borough, Block and Lot (BBL) self-reported',\n",
       "       u'NYC Building Identification Number (BIN)',\n",
       "       u'Address 1 (self-reported)', u'Address 2', u'Postal Code',\n",
       "       u'Street Number', u'Street Name', u'Borough', u'DOF Gross Floor Area',\n",
       "       u'Primary Property Type - Self Selected',\n",
       "       u'List of All Property Use Types at Property',\n",
       "       u'Largest Property Use Type',\n",
       "       u'Largest Property Use Type - Gross Floor Area (ft²)',\n",
       "       u'2nd Largest Property Use Type',\n",
       "       u'2nd Largest Property Use - Gross Floor Area (ft²)',\n",
       "       u'3rd Largest Property Use Type',\n",
       "       u'3rd Largest Property Use Type - Gross Floor Area (ft²)',\n",
       "       u'Year Built', u'Number of Buildings - Self-reported', u'Occupancy',\n",
       "       u'Metered Areas (Energy)', u'Metered Areas  (Water)',\n",
       "       u'ENERGY STAR Score', u'Site EUI (kBtu/ft²)',\n",
       "       u'Weather Normalized Site EUI (kBtu/ft²)',\n",
       "       u'Weather Normalized Site Electricity Intensity (kWh/ft²)',\n",
       "       u'Weather Normalized Site Natural Gas Intensity (therms/ft²)',\n",
       "       u'Weather Normalized Source EUI (kBtu/ft²)', u'Fuel Oil #1 Use (kBtu)',\n",
       "       u'Fuel Oil #2 Use (kBtu)', u'Fuel Oil #4 Use (kBtu)',\n",
       "       u'Fuel Oil #5 & 6 Use (kBtu)', u'Diesel #2 Use (kBtu)',\n",
       "       u'District Steam Use (kBtu)', u'Natural Gas Use (kBtu)',\n",
       "       u'Weather Normalized Site Natural Gas Use (therms)',\n",
       "       u'Electricity Use - Grid Purchase (kBtu)',\n",
       "       u'Weather Normalized Site Electricity (kWh)',\n",
       "       u'Total GHG Emissions (Metric Tons CO2e)',\n",
       "       u'Direct GHG Emissions (Metric Tons CO2e)',\n",
       "       u'Indirect GHG Emissions (Metric Tons CO2e)',\n",
       "       u'Property GFA - Self-Reported (ft²)',\n",
       "       u'Water Use (All Water Sources) (kgal)',\n",
       "       u'Water Intensity (All Water Sources) (gal/ft²)',\n",
       "       u'Source EUI (kBtu/ft²)', u'Release Date', u'Water Required?',\n",
       "       u'DOF Benchmarking Submission Status', u'Latitude', u'Longitude',\n",
       "       u'Community Board', u'Council District', u'Census Tract', u'NTA'],\n",
       "      dtype='object')"
      ]
     },
     "execution_count": 27,
     "metadata": {},
     "output_type": "execute_result"
    }
   ],
   "source": [
    "#look at the columns available, those are the variables\n",
    "nrg.columns"
   ]
  },
  {
   "cell_type": "code",
   "execution_count": 28,
   "metadata": {},
   "outputs": [
    {
     "data": {
      "text/plain": [
       "704760"
      ]
     },
     "execution_count": 28,
     "metadata": {},
     "output_type": "execute_result"
    }
   ],
   "source": [
    "#count how many rows, those are the data points\n",
    "nrg.size"
   ]
  },
  {
   "cell_type": "code",
   "execution_count": 29,
   "metadata": {},
   "outputs": [],
   "source": [
    "#select 2 columns only for plotting\n",
    "nrg_2c = nrg[['Year Built', 'Property GFA - Self-Reported (ft²)']]"
   ]
  },
  {
   "cell_type": "code",
   "execution_count": 30,
   "metadata": {},
   "outputs": [
    {
     "data": {
      "text/html": [
       "<div>\n",
       "<table border=\"1\" class=\"dataframe\">\n",
       "  <thead>\n",
       "    <tr style=\"text-align: right;\">\n",
       "      <th></th>\n",
       "      <th>Year Built</th>\n",
       "      <th>Property GFA - Self-Reported (ft²)</th>\n",
       "    </tr>\n",
       "  </thead>\n",
       "  <tbody>\n",
       "    <tr>\n",
       "      <th>0</th>\n",
       "      <td>1963</td>\n",
       "      <td>762051</td>\n",
       "    </tr>\n",
       "    <tr>\n",
       "      <th>1</th>\n",
       "      <td>1969</td>\n",
       "      <td>3889181</td>\n",
       "    </tr>\n",
       "    <tr>\n",
       "      <th>2</th>\n",
       "      <td>1924</td>\n",
       "      <td>231342</td>\n",
       "    </tr>\n",
       "    <tr>\n",
       "      <th>3</th>\n",
       "      <td>1971</td>\n",
       "      <td>1305748</td>\n",
       "    </tr>\n",
       "    <tr>\n",
       "      <th>4</th>\n",
       "      <td>1932</td>\n",
       "      <td>179694</td>\n",
       "    </tr>\n",
       "  </tbody>\n",
       "</table>\n",
       "</div>"
      ],
      "text/plain": [
       "   Year Built  Property GFA - Self-Reported (ft²)\n",
       "0        1963                              762051\n",
       "1        1969                             3889181\n",
       "2        1924                              231342\n",
       "3        1971                             1305748\n",
       "4        1932                              179694"
      ]
     },
     "execution_count": 30,
     "metadata": {},
     "output_type": "execute_result"
    }
   ],
   "source": [
    "nrg_2c.head()"
   ]
  },
  {
   "cell_type": "code",
   "execution_count": 31,
   "metadata": {},
   "outputs": [
    {
     "data": {
      "text/plain": [
       "<matplotlib.axes._subplots.AxesSubplot at 0x7f66091c6110>"
      ]
     },
     "execution_count": 31,
     "metadata": {},
     "output_type": "execute_result"
    },
    {
     "data": {
      "image/png": "[encoded data removed]",
      "text/plain": [
       "<matplotlib.figure.Figure at 0x7f662c269910>"
      ]
     },
     "metadata": {},
     "output_type": "display_data"
    }
   ],
   "source": [
    "nrg_2c.plot.scatter(x=\"Year Built\", y=\"Property GFA - Self-Reported (ft²)\")"
   ]
  },
  {
   "cell_type": "code",
   "execution_count": 32,
   "metadata": {},
   "outputs": [
    {
     "name": "stdout",
     "output_type": "stream",
     "text": [
      "Populating the interactive namespace from numpy and matplotlib\n"
     ]
    }
   ],
   "source": [
    "# wont show anything if i do not use the magic command to show plots in the notebook \n",
    "#(or use pl.show to pop up a window, but for the homework plots have to be embedded)\n",
    "%pylab inline"
   ]
  },
  {
   "cell_type": "code",
   "execution_count": 33,
   "metadata": {},
   "outputs": [
    {
     "data": {
      "image/png": "[encoded data removed]",
      "text/plain": [
       "<matplotlib.figure.Figure at 0x7f66093b9bd0>"
      ]
     },
     "metadata": {},
     "output_type": "display_data"
    }
   ],
   "source": [
    "nrg_2c.plot.scatter(x=\"Year Built\", y=\"Property GFA - Self-Reported (ft²)\");\n",
    "# every plot needs a caption that explains to the reader \n",
    "# 1) WHAT what the reader is loooking at and \n",
    "# 2) WHY why the reader is looking at it here in the analysis \n",
    "#      (in this case there is no why cause this plot is not part of an analysis)\n",
    "# 3) TAKE HOME what is the take home point for the plot in the analysis \n",
    "#      (also there is no take home point here cause we are not doind an analysis but you can point out interesting features)"
   ]
  },
  {
   "cell_type": "code",
   "execution_count": 34,
   "metadata": {},
   "outputs": [],
   "source": [
    "##Figure 1: Year built against Property gross floor area as reported by building owners to the \n",
    "##Mayor's Office of Sustainability on May, 2017.\n",
    "##This scatterplot shows the time frame in which larger buildings were built \n",
    "\n"
   ]
  },
  {
   "cell_type": "code",
   "execution_count": 37,
   "metadata": {},
   "outputs": [],
   "source": [
    "##solution 2: solution 2: Use API and download a json file\n",
    "url = \"https://data.cityofnewyork.us/api/views/8u86-bviy/rows.json\""
   ]
  },
  {
   "cell_type": "code",
   "execution_count": 38,
   "metadata": {},
   "outputs": [
    {
     "ename": "ValueError",
     "evalue": "Mixing dicts with non-Series may lead to ambiguous ordering.",
     "output_type": "error",
     "traceback": [
      "\u001b[0;31m\u001b[0m",
      "\u001b[0;31mValueError\u001b[0mTraceback (most recent call last)",
      "\u001b[0;32m<ipython-input-38-6fec8220a506>\u001b[0m in \u001b[0;36m<module>\u001b[0;34m()\u001b[0m\n\u001b[1;32m      1\u001b[0m \u001b[0;31m#use the appropriatepandas function to read in the json file\u001b[0m\u001b[0;34m\u001b[0m\u001b[0;34m\u001b[0m\u001b[0m\n\u001b[0;32m----> 2\u001b[0;31m \u001b[0mdf\u001b[0m \u001b[0;34m=\u001b[0m \u001b[0mpd\u001b[0m\u001b[0;34m.\u001b[0m\u001b[0mread_json\u001b[0m\u001b[0;34m(\u001b[0m\u001b[0murl\u001b[0m\u001b[0;34m)\u001b[0m\u001b[0;34m\u001b[0m\u001b[0m\n\u001b[0m",
      "\u001b[0;32m/usr/local/Anaconda3-5.0.0-Linux-x86_64/envs/PUI2016_Python2/lib/python2.7/site-packages/pandas/io/json.pyc\u001b[0m in \u001b[0;36mread_json\u001b[0;34m(path_or_buf, orient, typ, dtype, convert_axes, convert_dates, keep_default_dates, numpy, precise_float, date_unit)\u001b[0m\n\u001b[1;32m    209\u001b[0m         obj = FrameParser(json, orient, dtype, convert_axes, convert_dates,\n\u001b[1;32m    210\u001b[0m                           \u001b[0mkeep_default_dates\u001b[0m\u001b[0;34m,\u001b[0m \u001b[0mnumpy\u001b[0m\u001b[0;34m,\u001b[0m \u001b[0mprecise_float\u001b[0m\u001b[0;34m,\u001b[0m\u001b[0;34m\u001b[0m\u001b[0m\n\u001b[0;32m--> 211\u001b[0;31m                           date_unit).parse()\n\u001b[0m\u001b[1;32m    212\u001b[0m \u001b[0;34m\u001b[0m\u001b[0m\n\u001b[1;32m    213\u001b[0m     \u001b[0;32mif\u001b[0m \u001b[0mtyp\u001b[0m \u001b[0;34m==\u001b[0m \u001b[0;34m'series'\u001b[0m \u001b[0;32mor\u001b[0m \u001b[0mobj\u001b[0m \u001b[0;32mis\u001b[0m \u001b[0mNone\u001b[0m\u001b[0;34m:\u001b[0m\u001b[0;34m\u001b[0m\u001b[0m\n",
      "\u001b[0;32m/usr/local/Anaconda3-5.0.0-Linux-x86_64/envs/PUI2016_Python2/lib/python2.7/site-packages/pandas/io/json.pyc\u001b[0m in \u001b[0;36mparse\u001b[0;34m(self)\u001b[0m\n\u001b[1;32m    277\u001b[0m \u001b[0;34m\u001b[0m\u001b[0m\n\u001b[1;32m    278\u001b[0m         \u001b[0;32melse\u001b[0m\u001b[0;34m:\u001b[0m\u001b[0;34m\u001b[0m\u001b[0m\n\u001b[0;32m--> 279\u001b[0;31m             \u001b[0mself\u001b[0m\u001b[0;34m.\u001b[0m\u001b[0m_parse_no_numpy\u001b[0m\u001b[0;34m(\u001b[0m\u001b[0;34m)\u001b[0m\u001b[0;34m\u001b[0m\u001b[0m\n\u001b[0m\u001b[1;32m    280\u001b[0m \u001b[0;34m\u001b[0m\u001b[0m\n\u001b[1;32m    281\u001b[0m         \u001b[0;32mif\u001b[0m \u001b[0mself\u001b[0m\u001b[0;34m.\u001b[0m\u001b[0mobj\u001b[0m \u001b[0;32mis\u001b[0m \u001b[0mNone\u001b[0m\u001b[0;34m:\u001b[0m\u001b[0;34m\u001b[0m\u001b[0m\n",
      "\u001b[0;32m/usr/local/Anaconda3-5.0.0-Linux-x86_64/envs/PUI2016_Python2/lib/python2.7/site-packages/pandas/io/json.pyc\u001b[0m in \u001b[0;36m_parse_no_numpy\u001b[0;34m(self)\u001b[0m\n\u001b[1;32m    494\u001b[0m         \u001b[0;32mif\u001b[0m \u001b[0morient\u001b[0m \u001b[0;34m==\u001b[0m \u001b[0;34m\"columns\"\u001b[0m\u001b[0;34m:\u001b[0m\u001b[0;34m\u001b[0m\u001b[0m\n\u001b[1;32m    495\u001b[0m             self.obj = DataFrame(\n\u001b[0;32m--> 496\u001b[0;31m                 loads(json, precise_float=self.precise_float), dtype=None)\n\u001b[0m\u001b[1;32m    497\u001b[0m         \u001b[0;32melif\u001b[0m \u001b[0morient\u001b[0m \u001b[0;34m==\u001b[0m \u001b[0;34m\"split\"\u001b[0m\u001b[0;34m:\u001b[0m\u001b[0;34m\u001b[0m\u001b[0m\n\u001b[1;32m    498\u001b[0m             decoded = dict((str(k), v)\n",
      "\u001b[0;32m/usr/local/Anaconda3-5.0.0-Linux-x86_64/envs/PUI2016_Python2/lib/python2.7/site-packages/pandas/core/frame.pyc\u001b[0m in \u001b[0;36m__init__\u001b[0;34m(self, data, index, columns, dtype, copy)\u001b[0m\n\u001b[1;32m    222\u001b[0m                                  dtype=dtype, copy=copy)\n\u001b[1;32m    223\u001b[0m         \u001b[0;32melif\u001b[0m \u001b[0misinstance\u001b[0m\u001b[0;34m(\u001b[0m\u001b[0mdata\u001b[0m\u001b[0;34m,\u001b[0m \u001b[0mdict\u001b[0m\u001b[0;34m)\u001b[0m\u001b[0;34m:\u001b[0m\u001b[0;34m\u001b[0m\u001b[0m\n\u001b[0;32m--> 224\u001b[0;31m             \u001b[0mmgr\u001b[0m \u001b[0;34m=\u001b[0m \u001b[0mself\u001b[0m\u001b[0;34m.\u001b[0m\u001b[0m_init_dict\u001b[0m\u001b[0;34m(\u001b[0m\u001b[0mdata\u001b[0m\u001b[0;34m,\u001b[0m \u001b[0mindex\u001b[0m\u001b[0;34m,\u001b[0m \u001b[0mcolumns\u001b[0m\u001b[0;34m,\u001b[0m \u001b[0mdtype\u001b[0m\u001b[0;34m=\u001b[0m\u001b[0mdtype\u001b[0m\u001b[0;34m)\u001b[0m\u001b[0;34m\u001b[0m\u001b[0m\n\u001b[0m\u001b[1;32m    225\u001b[0m         \u001b[0;32melif\u001b[0m \u001b[0misinstance\u001b[0m\u001b[0;34m(\u001b[0m\u001b[0mdata\u001b[0m\u001b[0;34m,\u001b[0m \u001b[0mma\u001b[0m\u001b[0;34m.\u001b[0m\u001b[0mMaskedArray\u001b[0m\u001b[0;34m)\u001b[0m\u001b[0;34m:\u001b[0m\u001b[0;34m\u001b[0m\u001b[0m\n\u001b[1;32m    226\u001b[0m             \u001b[0;32mimport\u001b[0m \u001b[0mnumpy\u001b[0m\u001b[0;34m.\u001b[0m\u001b[0mma\u001b[0m\u001b[0;34m.\u001b[0m\u001b[0mmrecords\u001b[0m \u001b[0;32mas\u001b[0m \u001b[0mmrecords\u001b[0m\u001b[0;34m\u001b[0m\u001b[0m\n",
      "\u001b[0;32m/usr/local/Anaconda3-5.0.0-Linux-x86_64/envs/PUI2016_Python2/lib/python2.7/site-packages/pandas/core/frame.pyc\u001b[0m in \u001b[0;36m_init_dict\u001b[0;34m(self, data, index, columns, dtype)\u001b[0m\n\u001b[1;32m    358\u001b[0m             \u001b[0marrays\u001b[0m \u001b[0;34m=\u001b[0m \u001b[0;34m[\u001b[0m\u001b[0mdata\u001b[0m\u001b[0;34m[\u001b[0m\u001b[0mk\u001b[0m\u001b[0;34m]\u001b[0m \u001b[0;32mfor\u001b[0m \u001b[0mk\u001b[0m \u001b[0;32min\u001b[0m \u001b[0mkeys\u001b[0m\u001b[0;34m]\u001b[0m\u001b[0;34m\u001b[0m\u001b[0m\n\u001b[1;32m    359\u001b[0m \u001b[0;34m\u001b[0m\u001b[0m\n\u001b[0;32m--> 360\u001b[0;31m         \u001b[0;32mreturn\u001b[0m \u001b[0m_arrays_to_mgr\u001b[0m\u001b[0;34m(\u001b[0m\u001b[0marrays\u001b[0m\u001b[0;34m,\u001b[0m \u001b[0mdata_names\u001b[0m\u001b[0;34m,\u001b[0m \u001b[0mindex\u001b[0m\u001b[0;34m,\u001b[0m \u001b[0mcolumns\u001b[0m\u001b[0;34m,\u001b[0m \u001b[0mdtype\u001b[0m\u001b[0;34m=\u001b[0m\u001b[0mdtype\u001b[0m\u001b[0;34m)\u001b[0m\u001b[0;34m\u001b[0m\u001b[0m\n\u001b[0m\u001b[1;32m    361\u001b[0m \u001b[0;34m\u001b[0m\u001b[0m\n\u001b[1;32m    362\u001b[0m     \u001b[0;32mdef\u001b[0m \u001b[0m_init_ndarray\u001b[0m\u001b[0;34m(\u001b[0m\u001b[0mself\u001b[0m\u001b[0;34m,\u001b[0m \u001b[0mvalues\u001b[0m\u001b[0;34m,\u001b[0m \u001b[0mindex\u001b[0m\u001b[0;34m,\u001b[0m \u001b[0mcolumns\u001b[0m\u001b[0;34m,\u001b[0m \u001b[0mdtype\u001b[0m\u001b[0;34m=\u001b[0m\u001b[0mNone\u001b[0m\u001b[0;34m,\u001b[0m \u001b[0mcopy\u001b[0m\u001b[0;34m=\u001b[0m\u001b[0mFalse\u001b[0m\u001b[0;34m)\u001b[0m\u001b[0;34m:\u001b[0m\u001b[0;34m\u001b[0m\u001b[0m\n",
      "\u001b[0;32m/usr/local/Anaconda3-5.0.0-Linux-x86_64/envs/PUI2016_Python2/lib/python2.7/site-packages/pandas/core/frame.pyc\u001b[0m in \u001b[0;36m_arrays_to_mgr\u001b[0;34m(arrays, arr_names, index, columns, dtype)\u001b[0m\n\u001b[1;32m   5229\u001b[0m     \u001b[0;31m# figure out the index, if necessary\u001b[0m\u001b[0;34m\u001b[0m\u001b[0;34m\u001b[0m\u001b[0m\n\u001b[1;32m   5230\u001b[0m     \u001b[0;32mif\u001b[0m \u001b[0mindex\u001b[0m \u001b[0;32mis\u001b[0m \u001b[0mNone\u001b[0m\u001b[0;34m:\u001b[0m\u001b[0;34m\u001b[0m\u001b[0m\n\u001b[0;32m-> 5231\u001b[0;31m         \u001b[0mindex\u001b[0m \u001b[0;34m=\u001b[0m \u001b[0mextract_index\u001b[0m\u001b[0;34m(\u001b[0m\u001b[0marrays\u001b[0m\u001b[0;34m)\u001b[0m\u001b[0;34m\u001b[0m\u001b[0m\n\u001b[0m\u001b[1;32m   5232\u001b[0m     \u001b[0;32melse\u001b[0m\u001b[0;34m:\u001b[0m\u001b[0;34m\u001b[0m\u001b[0m\n\u001b[1;32m   5233\u001b[0m         \u001b[0mindex\u001b[0m \u001b[0;34m=\u001b[0m \u001b[0m_ensure_index\u001b[0m\u001b[0;34m(\u001b[0m\u001b[0mindex\u001b[0m\u001b[0;34m)\u001b[0m\u001b[0;34m\u001b[0m\u001b[0m\n",
      "\u001b[0;32m/usr/local/Anaconda3-5.0.0-Linux-x86_64/envs/PUI2016_Python2/lib/python2.7/site-packages/pandas/core/frame.pyc\u001b[0m in \u001b[0;36mextract_index\u001b[0;34m(data)\u001b[0m\n\u001b[1;32m   5280\u001b[0m \u001b[0;34m\u001b[0m\u001b[0m\n\u001b[1;32m   5281\u001b[0m             \u001b[0;32mif\u001b[0m \u001b[0mhave_dicts\u001b[0m\u001b[0;34m:\u001b[0m\u001b[0;34m\u001b[0m\u001b[0m\n\u001b[0;32m-> 5282\u001b[0;31m                 raise ValueError('Mixing dicts with non-Series may lead to '\n\u001b[0m\u001b[1;32m   5283\u001b[0m                                  'ambiguous ordering.')\n\u001b[1;32m   5284\u001b[0m \u001b[0;34m\u001b[0m\u001b[0m\n",
      "\u001b[0;31mValueError\u001b[0m: Mixing dicts with non-Series may lead to ambiguous ordering."
     ]
    }
   ],
   "source": [
    "#use the appropriatepandas function to read in the json file\n",
    "df = pd.read_json(url)"
   ]
  },
  {
   "cell_type": "code",
   "execution_count": null,
   "metadata": {},
   "outputs": [],
   "source": [
    "# print it out\n",
    "df.head(3)"
   ]
  },
  {
   "cell_type": "code",
   "execution_count": 287,
   "metadata": {},
   "outputs": [],
   "source": [
    "#now select a date and 2 variables\n",
    "dhs_3c = df[['date_of_census', 'single_adult_men_in_shelter', 'single_adult_women_in_shelter']]"
   ]
  },
  {
   "cell_type": "code",
   "execution_count": 288,
   "metadata": {},
   "outputs": [],
   "source": [
    "dhs_3c.rename(columns = {'date_of_census':'Date of Census', \n",
    "               'single_adult_men_in_shelter':'Single Adult Men in Shelter', \n",
    "               'single_adult_women_in_shelter': 'Single Adult Women in Shelter'}, inplace=True)"
   ]
  },
  {
   "cell_type": "code",
   "execution_count": 289,
   "metadata": {},
   "outputs": [
    {
     "data": {
      "image/png": "[encoded data removed]",
      "text/plain": [
       "<matplotlib.figure.Figure at 0x7ff8c4c1cb10>"
      ]
     },
     "metadata": {},
     "output_type": "display_data"
    }
   ],
   "source": [
    "#as a default this plot wont have a y label, but all plots must have axis labels!\n",
    "ax = dhs_3c.plot(x='Date of Census', y='Single Adult Men in Shelter');\n",
    "ax.set_ylabel(\"Number\");"
   ]
  },
  {
   "cell_type": "code",
   "execution_count": 290,
   "metadata": {},
   "outputs": [
    {
     "name": "stderr",
     "output_type": "stream",
     "text": [
      "/usr/local/Anaconda3-5.0.0-Linux-x86_64/envs/PUI2016_Python2/lib/python2.7/site-packages/ipykernel/__main__.py:1: SettingWithCopyWarning: \n",
      "A value is trying to be set on a copy of a slice from a DataFrame.\n",
      "Try using .loc[row_indexer,col_indexer] = value instead\n",
      "\n",
      "See the caveats in the documentation: http://pandas.pydata.org/pandas-docs/stable/indexing.html#indexing-view-versus-copy\n",
      "  if __name__ == '__main__':\n"
     ]
    }
   ],
   "source": [
    "dhs_3c[\"Date of Census\"] = dhs_3c[\"Date of Census\"].apply(lambda x: pd.Timestamp(x))"
   ]
  },
  {
   "cell_type": "code",
   "execution_count": 291,
   "metadata": {},
   "outputs": [
    {
     "data": {
      "image/png": "[encoded data removed]",
      "text/plain": [
       "<matplotlib.figure.Figure at 0x7ff88c57af10>"
      ]
     },
     "metadata": {},
     "output_type": "display_data"
    }
   ],
   "source": [
    "ax = dhs_3c.plot(x='Date of Census', y='Single Adult Men in Shelter')\n",
    "ax.set_ylabel(\"Number\");"
   ]
  },
  {
   "cell_type": "code",
   "execution_count": 292,
   "metadata": {},
   "outputs": [],
   "source": [
    "##Figure 2: number of Single Adult Men in Shelter in NYC shelters as a function of time between 8/21/2013 and 9/16/2018. \n",
    "##The number peaks in Spring 2015 and hten declines slightly. There is an overall trend of significantly more single \n",
    "##adult men being added to the shelters over this period. "
   ]
  },
  {
   "cell_type": "code",
   "execution_count": 293,
   "metadata": {},
   "outputs": [
    {
     "data": {
      "image/png": "[encoded data removed]",
      "text/plain": [
       "<matplotlib.figure.Figure at 0x7ff89817fd90>"
      ]
     },
     "metadata": {},
     "output_type": "display_data"
    }
   ],
   "source": [
    "#plot the other columns\n",
    "ax = dhs_3c.plot(x='Date of Census', y='Single Adult Women in Shelter')\n",
    "ax.set_ylabel(\"Number\");"
   ]
  },
  {
   "cell_type": "code",
   "execution_count": 295,
   "metadata": {},
   "outputs": [],
   "source": [
    "##Figure 3: number of Single Adult Women in Shelter in NYC shelters as a function of time between 8/21/2013 and 9/16/2018. \n",
    "##The number climbs continually over this period and number of single adult women shelters is consistently about a \n",
    "##third of the number of single adult men "
   ]
  },
  {
   "cell_type": "code",
   "execution_count": null,
   "metadata": {},
   "outputs": [],
   "source": []
  }
 ],
 "metadata": {
  "kernelspec": {
   "display_name": "PUI2016_Python2",
   "language": "python",
   "name": "pui2016_python2"
  },
  "language_info": {
   "codemirror_mode": {
    "name": "ipython",
    "version": 2
   },
   "file_extension": ".py",
   "mimetype": "text/x-python",
   "name": "python",
   "nbconvert_exporter": "python",
   "pygments_lexer": "ipython2",
   "version": "2.7.12"
  }
 },
 "nbformat": 4,
 "nbformat_minor": 2
}
