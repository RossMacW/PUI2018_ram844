{
 "cells": [
  {
   "cell_type": "code",
   "execution_count": 112,
   "metadata": {},
   "outputs": [],
   "source": [
    "import matplotlib as plt\n",
    "import numpy as np\n",
    "import pandas as pd"
   ]
  },
  {
   "cell_type": "code",
   "execution_count": 113,
   "metadata": {},
   "outputs": [],
   "source": [
    "ghg = pd.read_csv(os.getenv(\"PUIDATA\") + \"/NYC_GHG_Emissions.csv\")"
   ]
  },
  {
   "cell_type": "code",
   "execution_count": 114,
   "metadata": {},
   "outputs": [
    {
     "data": {
      "text/html": [
       "<div>\n",
       "<table border=\"1\" class=\"dataframe\">\n",
       "  <thead>\n",
       "    <tr style=\"text-align: right;\">\n",
       "      <th></th>\n",
       "      <th>Sector</th>\n",
       "      <th>2005</th>\n",
       "      <th>2006</th>\n",
       "      <th>2007</th>\n",
       "      <th>2008</th>\n",
       "      <th>2009</th>\n",
       "      <th>2010</th>\n",
       "      <th>2011</th>\n",
       "      <th>2012</th>\n",
       "      <th>2013</th>\n",
       "      <th>2014</th>\n",
       "      <th>2015</th>\n",
       "      <th>2016</th>\n",
       "      <th>2017</th>\n",
       "    </tr>\n",
       "  </thead>\n",
       "  <tbody>\n",
       "    <tr>\n",
       "      <th>0</th>\n",
       "      <td>Waste</td>\n",
       "      <td>2.275</td>\n",
       "      <td>2.237</td>\n",
       "      <td>2.332</td>\n",
       "      <td>2.259</td>\n",
       "      <td>2.113</td>\n",
       "      <td>2.052</td>\n",
       "      <td>1.927</td>\n",
       "      <td>1.911</td>\n",
       "      <td>1.898</td>\n",
       "      <td>1.860</td>\n",
       "      <td>1.837</td>\n",
       "      <td>1.800</td>\n",
       "      <td>1.800</td>\n",
       "    </tr>\n",
       "    <tr>\n",
       "      <th>1</th>\n",
       "      <td>Transportation</td>\n",
       "      <td>16.221</td>\n",
       "      <td>16.004</td>\n",
       "      <td>16.012</td>\n",
       "      <td>15.825</td>\n",
       "      <td>15.745</td>\n",
       "      <td>15.568</td>\n",
       "      <td>15.506</td>\n",
       "      <td>15.432</td>\n",
       "      <td>15.410</td>\n",
       "      <td>15.335</td>\n",
       "      <td>15.309</td>\n",
       "      <td>15.379</td>\n",
       "      <td>15.344</td>\n",
       "    </tr>\n",
       "    <tr>\n",
       "      <th>2</th>\n",
       "      <td>Stationary Energy</td>\n",
       "      <td>42.389</td>\n",
       "      <td>37.721</td>\n",
       "      <td>40.636</td>\n",
       "      <td>37.522</td>\n",
       "      <td>36.310</td>\n",
       "      <td>34.641</td>\n",
       "      <td>35.057</td>\n",
       "      <td>32.678</td>\n",
       "      <td>34.776</td>\n",
       "      <td>34.917</td>\n",
       "      <td>34.171</td>\n",
       "      <td>34.352</td>\n",
       "      <td>33.407</td>\n",
       "    </tr>\n",
       "  </tbody>\n",
       "</table>\n",
       "</div>"
      ],
      "text/plain": [
       "              Sector    2005    2006    2007    2008    2009    2010    2011  \\\n",
       "0              Waste   2.275   2.237   2.332   2.259   2.113   2.052   1.927   \n",
       "1     Transportation  16.221  16.004  16.012  15.825  15.745  15.568  15.506   \n",
       "2  Stationary Energy  42.389  37.721  40.636  37.522  36.310  34.641  35.057   \n",
       "\n",
       "     2012    2013    2014    2015    2016    2017  \n",
       "0   1.911   1.898   1.860   1.837   1.800   1.800  \n",
       "1  15.432  15.410  15.335  15.309  15.379  15.344  \n",
       "2  32.678  34.776  34.917  34.171  34.352  33.407  "
      ]
     },
     "execution_count": 114,
     "metadata": {},
     "output_type": "execute_result"
    }
   ],
   "source": [
    "ghg.head()"
   ]
  },
  {
   "cell_type": "code",
   "execution_count": 115,
   "metadata": {},
   "outputs": [
    {
     "data": {
      "text/html": [
       "<div>\n",
       "<table border=\"1\" class=\"dataframe\">\n",
       "  <thead>\n",
       "    <tr style=\"text-align: right;\">\n",
       "      <th>Year</th>\n",
       "      <th>Waste</th>\n",
       "      <th>Transportation</th>\n",
       "      <th>Stationary Energy</th>\n",
       "    </tr>\n",
       "  </thead>\n",
       "  <tbody>\n",
       "    <tr>\n",
       "      <th>2005</th>\n",
       "      <td>2.275</td>\n",
       "      <td>16.221</td>\n",
       "      <td>42.389</td>\n",
       "    </tr>\n",
       "    <tr>\n",
       "      <th>2006</th>\n",
       "      <td>2.237</td>\n",
       "      <td>16.004</td>\n",
       "      <td>37.721</td>\n",
       "    </tr>\n",
       "    <tr>\n",
       "      <th>2007</th>\n",
       "      <td>2.332</td>\n",
       "      <td>16.012</td>\n",
       "      <td>40.636</td>\n",
       "    </tr>\n",
       "    <tr>\n",
       "      <th>2008</th>\n",
       "      <td>2.259</td>\n",
       "      <td>15.825</td>\n",
       "      <td>37.522</td>\n",
       "    </tr>\n",
       "    <tr>\n",
       "      <th>2009</th>\n",
       "      <td>2.113</td>\n",
       "      <td>15.745</td>\n",
       "      <td>36.310</td>\n",
       "    </tr>\n",
       "  </tbody>\n",
       "</table>\n",
       "</div>"
      ],
      "text/plain": [
       "Year  Waste  Transportation  Stationary Energy\n",
       "2005  2.275          16.221             42.389\n",
       "2006  2.237          16.004             37.721\n",
       "2007  2.332          16.012             40.636\n",
       "2008  2.259          15.825             37.522\n",
       "2009  2.113          15.745             36.310"
      ]
     },
     "execution_count": 115,
     "metadata": {},
     "output_type": "execute_result"
    }
   ],
   "source": [
    "ghg = ghg.rename(index=str, columns={\"Sector\": \"Year\"})\n",
    "ghg.set_index('Year',inplace=True)\n",
    "ghgtrans = ghg.transpose()\n",
    "ghgtrans.head()"
   ]
  },
  {
   "cell_type": "code",
   "execution_count": 116,
   "metadata": {},
   "outputs": [
    {
     "data": {
      "image/png": "[encoded data removed]",
      "text/plain": [
       "<matplotlib.figure.Figure at 0x7fdbcfc42fd0>"
      ]
     },
     "metadata": {},
     "output_type": "display_data"
    }
   ],
   "source": [
    "ax = ghgtrans.plot.bar(stacked=True, figsize=(15,10), rot = 1)\n",
    "ax.set_xlabel(\"Year\", fontsize=25)\n",
    "ax.set_ylabel(\"GHG Emissions (tons CO$_2$e)\", fontsize=25)\n",
    "ax.set_title(\"NYC's Annual Citywide Greenhouse Gas Emissions\", fontsize=30)\n",
    "ax.legend([\"Waste\", \"Transportation\", \"Stationary Energy\"])\n",
    "ax.spines['top'].set_visible(False)\n",
    "ax.spines['right'].set_visible(False)\n",
    "ax.spines['left'].set_visible(False)\n",
    "ax.spines['bottom'].set_visible(False)"
   ]
  },
  {
   "cell_type": "markdown",
   "metadata": {},
   "source": [
    "    Since 2005, GHG emissions have decreased in NYC citywide by approximately 15% despite significant increases \n",
    "    in population and economic activity. Citywide GHG emissions have remained flat since 2016."
   ]
  }
 ],
 "metadata": {
  "kernelspec": {
   "display_name": "PUI2016_Python3",
   "language": "python",
   "name": "pui2016_python3"
  },
  "language_info": {
   "codemirror_mode": {
    "name": "ipython",
    "version": 3
   },
   "file_extension": ".py",
   "mimetype": "text/x-python",
   "name": "python",
   "nbconvert_exporter": "python",
   "pygments_lexer": "ipython3",
   "version": "3.5.4"
  }
 },
 "nbformat": 4,
 "nbformat_minor": 2
}
