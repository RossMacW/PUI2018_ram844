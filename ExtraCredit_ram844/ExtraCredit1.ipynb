{
 "cells": [
  {
   "cell_type": "code",
   "execution_count": 340,
   "metadata": {},
   "outputs": [],
   "source": [
    "import numpy as np\n",
    "import pandas as pd\n",
    "from scipy.stats import ttest_ind_from_stats\n",
    "import urllib.request"
   ]
  },
  {
   "cell_type": "code",
   "execution_count": 341,
   "metadata": {},
   "outputs": [],
   "source": [
    "## saving the appropriate NYC Open Data URLs to variables\n",
    "URL16 = 'https://data.cityofnewyork.us/api/views/8u86-bviy/rows.csv?accessType=DOWNLOAD'\n",
    "URL15 = 'https://data.cityofnewyork.us/api/views/hypw-js3b/rows.csv?accessType=DOWNLOAD'\n",
    "URL14 = 'https://data.cityofnewyork.us/api/views/jzst-u7j8/rows.csv?accessType=DOWNLOAD'\n",
    "URL13 = 'https://data.cityofnewyork.us/api/views/rgfe-8y2z/rows.csv?accessType=DOWNLOAD'\n",
    "URL12 = 'https://data.cityofnewyork.us/api/views/5gde-fmj3/rows.csv?accessType=DOWNLOAD'\n",
    "\n",
    "## saving the appropriate label for BBL to variables for each year\n",
    "BBL16 = 'BBL - 10 digits'\n",
    "BBL15 = 'NYC Borough, Block and Lot (BBL)'\n",
    "BBL14 = 'BBL'\n",
    "BBL13 = 'BBL'\n",
    "BBL12 = 'BBL'\n",
    "\n",
    "## saving the appropriate label for Site EUI to variables for each year\n",
    "EUI16 = 'Site EUI (kBtu/ft²)'\n",
    "EUI15 = 'Site EUI (kBtu/ft²)'\n",
    "EUI14 = 'Site EUI(kBtu/ft2)'\n",
    "EUI13 = 'Site EUI(kBtu/ft2)'\n",
    "EUI12 = 'Site EUI(kBtu/ft2)'\n"
   ]
  },
  {
   "cell_type": "code",
   "execution_count": 342,
   "metadata": {},
   "outputs": [],
   "source": [
    "# merges two year's worth of LL84 data on BBL and returns a data frame listing \n",
    "# the Site EUI difference value for each BBL that contains data for both years  \n",
    "def difference(URL1, URL2, BBL_name1, BBL_name2, EUI_name1, EUI_name2):\n",
    "    # loading building energy benchmarking data into dataframes\n",
    "    year1 = pd.read_csv(URL1)\n",
    "    year2 = pd.read_csv(URL2)\n",
    "    \n",
    "    # replacing the 'Not Available' values with NaN\n",
    "    year1.replace('Not Available', np.nan, inplace=True)\n",
    "    year1.replace('See Primary BBL', np.nan, inplace=True)\n",
    "    year1.replace('NA', np.nan, inplace=True)\n",
    "    year2.replace('NA', np.nan, inplace=True)\n",
    "    year2.replace('Not Available', np.nan, inplace=True)\n",
    "    year2.replace('See Primary BBL', np.nan, inplace=True)\n",
    "    \n",
    "    # making sure Site EUI is a float\n",
    "    year1[EUI_name1] = year1[EUI_name1].astype(float)\n",
    "    year2[EUI_name2] = year2[EUI_name2].astype(float)    \n",
    "    \n",
    "    # removing records with unrealistic Site EUI values\n",
    "    year1.drop(year1[year1[EUI_name1] > 300].index, inplace=True)\n",
    "    year2.drop(year2[year2[EUI_name2] > 300].index, inplace=True)\n",
    "    year1.drop(year1[year1[EUI_name1] < 0].index, inplace=True)\n",
    "    year2.drop(year2[year2[EUI_name2] < 0].index, inplace=True)\n",
    "            \n",
    "    # dropping every column but BBL and Site Energy Use Intensity\n",
    "    year1 = year1.filter(items=[BBL_name1, EUI_name1])\n",
    "    year2 = year2.filter(items=[BBL_name2, EUI_name2])\n",
    "    \n",
    "    # forcing BBLs out of scientific notation and then saving as string\n",
    "    # then storing length of BBL string in new column\n",
    "    year1['length'] = year1[BBL_name1].astype(str).str.len()\n",
    "    year2['length'] = year2[BBL_name2].astype(str).str.len()\n",
    "    \n",
    "    year1.dropna(inplace=True)\n",
    "    year2.dropna(inplace=True)\n",
    "    \n",
    "    # Any record with more than 12 digits includes more than one tax lot in a report\n",
    "    # This is a difficult set-up to work with, so I am deleting those rows outright\n",
    "    year1.drop(year1[year1['length'] >12].index, inplace=True)\n",
    "    year2.drop(year2[year2['length'] >12].index, inplace=True)\n",
    "    \n",
    "    year1[BBL_name1] = pd.to_numeric(year1[BBL_name1], errors='coerce')#.astype(int)\n",
    "    year2[BBL_name2] = pd.to_numeric(year2[BBL_name2], errors='coerce')\n",
    "    \n",
    "    year1 = year1.rename(columns={BBL_name1: 'BBL1', EUI_name1: 'SiteEUI1'})\n",
    "    year2 = year2.rename(columns={BBL_name2: 'BBL2', EUI_name2: 'SiteEUI2'})\n",
    "        \n",
    "    ##year1 = year1.rename(columns={[0]: 'BBL1'})#,[1]: 'SiteEUI1', [2]: 'length1'})\n",
    "    ##year2 = year2.rename(columns={[0]: 'BBL2'})#, [1]: 'SiteEUI2', [2]: 'length2'})    \n",
    "    \n",
    "    # merging on BBL to create dataset with Site EUI values for preRCx and postRCx years\n",
    "    ##pop = year1.merge(year2, left_on=BBL_name1, right_on=BBL_name2, how='outer')\n",
    "    \n",
    "    \n",
    "    \n",
    "    pop = year1.merge(year2, left_on='BBL1', right_on='BBL2', how='inner')\n",
    "    ##pop = pd.merge(year1, year2, how='inner', on=['BBL1', 'BBL2'], )\n",
    "\n",
    "    ##pop = pop.rename(columns={BBL_name1: 'BBL1', EUI_name1: 'SiteEUI1', BBL_name2: 'BBL2', EUI_name2: 'SiteEUI2'})\n",
    "    \n",
    "    #dropping length column\n",
    "    #pop.drop(['length1', 'length2'], axis=1, inplace=True)\n",
    "    \n",
    "    # dropping all rows with NaN\n",
    "    ##pop.dropna(inplace=True)\n",
    "    \n",
    "    # creating a \"difference\" column which shows the change in Site EUI from year 1 to year 2\n",
    "    pop['difference'] = pop['SiteEUI2'] - pop['SiteEUI1']\n",
    "    return pop.drop_duplicates()"
   ]
  },
  {
   "cell_type": "code",
   "execution_count": 343,
   "metadata": {},
   "outputs": [],
   "source": [
    "# execute teh difference function for three sets of bracket years\n",
    "pop12_14 = difference(URL12, URL14, BBL12, BBL14, EUI12, EUI14)\n",
    "pop13_15 = difference(URL13, URL15, BBL13, BBL15, EUI13, EUI15)\n",
    "pop14_16 = difference(URL14, URL16, BBL14, BBL16, EUI14, EUI16)"
   ]
  },
  {
   "cell_type": "code",
   "execution_count": 344,
   "metadata": {},
   "outputs": [],
   "source": [
    "# renaming SiteEUI columns to be more descriptive\n",
    "pop12_14.rename(index=str, columns={\"SiteEUI1\": \"SiteEUI2012\", \"SiteEUI2\": \"SiteEUI2014\"},  inplace = True)\n",
    "pop13_15.rename(index=str, columns={\"SiteEUI1\": \"SiteEUI2013\", \"SiteEUI2\": \"SiteEUI2015\"},  inplace = True)\n",
    "pop14_16.rename(index=str, columns={\"SiteEUI1\": \"SiteEUI2014\", \"SiteEUI2\": \"SiteEUI2016\"},  inplace = True)"
   ]
  },
  {
   "cell_type": "code",
   "execution_count": 345,
   "metadata": {},
   "outputs": [],
   "source": [
    "# dropping length columns\n",
    "pop12_14.drop(['length_x', 'length_y', 'BBL2'], axis=1, inplace=True)\n",
    "pop13_15.drop(['length_x', 'length_y', 'BBL2'], axis=1, inplace=True)\n",
    "pop14_16.drop(['length_x', 'length_y', 'BBL2'], axis=1, inplace=True)"
   ]
  },
  {
   "cell_type": "code",
   "execution_count": 346,
   "metadata": {},
   "outputs": [
    {
     "data": {
      "text/plain": [
       "(9269, 4)"
      ]
     },
     "execution_count": 346,
     "metadata": {},
     "output_type": "execute_result"
    }
   ],
   "source": [
    "pop12_14.shape"
   ]
  },
  {
   "cell_type": "code",
   "execution_count": 347,
   "metadata": {},
   "outputs": [
    {
     "data": {
      "text/plain": [
       "(9309, 4)"
      ]
     },
     "execution_count": 347,
     "metadata": {},
     "output_type": "execute_result"
    }
   ],
   "source": [
    "pop13_15.shape"
   ]
  },
  {
   "cell_type": "code",
   "execution_count": 348,
   "metadata": {},
   "outputs": [
    {
     "data": {
      "text/plain": [
       "(9268, 4)"
      ]
     },
     "execution_count": 348,
     "metadata": {},
     "output_type": "execute_result"
    }
   ],
   "source": [
    "pop14_16.shape"
   ]
  },
  {
   "cell_type": "code",
   "execution_count": 349,
   "metadata": {},
   "outputs": [],
   "source": [
    "# load LL87 retro-commissioning data and ropping duplicate rows\n",
    "RCx13 = pd.read_csv('2013RCxBBL.csv').drop_duplicates()\n",
    "RCx14 = pd.read_csv('2014RCxBBL.csv').drop_duplicates()\n",
    "RCx15 = pd.read_csv('2015RCxBBL.csv').drop_duplicates()"
   ]
  },
  {
   "cell_type": "code",
   "execution_count": 350,
   "metadata": {},
   "outputs": [],
   "source": [
    "# create column showing that retro-commissioning occurred in 2013\n",
    "RCx13['RCx13'] = 1\n",
    "RCx14['RCx14'] = 1\n",
    "RCx15['RCx15'] = 1"
   ]
  },
  {
   "cell_type": "code",
   "execution_count": 351,
   "metadata": {},
   "outputs": [],
   "source": [
    "# convert BBL to numeric so the inner merge will work \n",
    "RCx14['BBL'] = pd.to_numeric(RCx14['BBL'], errors='coerce')\n",
    "\n",
    "# merge with appropriate pop dataframe and drop any duplicate rows\n",
    "pop12_14 = pop12_14.merge(RCx13, left_on='BBL1', right_on='BBL', how='outer')\n",
    "pop13_15 = pop13_15.merge(RCx14, left_on='BBL1', right_on='BBL', how='outer')\n",
    "pop14_16 = pop14_16.merge(RCx15, left_on='BBL1', right_on='BBL', how='outer')"
   ]
  },
  {
   "cell_type": "code",
   "execution_count": 352,
   "metadata": {},
   "outputs": [
    {
     "data": {
      "text/plain": [
       "(9601, 6)"
      ]
     },
     "execution_count": 352,
     "metadata": {},
     "output_type": "execute_result"
    }
   ],
   "source": [
    "pop12_14.shape"
   ]
  },
  {
   "cell_type": "code",
   "execution_count": 353,
   "metadata": {},
   "outputs": [
    {
     "data": {
      "text/plain": [
       "(9554, 6)"
      ]
     },
     "execution_count": 353,
     "metadata": {},
     "output_type": "execute_result"
    }
   ],
   "source": [
    "pop13_15.shape"
   ]
  },
  {
   "cell_type": "code",
   "execution_count": 354,
   "metadata": {},
   "outputs": [
    {
     "data": {
      "text/plain": [
       "(9517, 6)"
      ]
     },
     "execution_count": 354,
     "metadata": {},
     "output_type": "execute_result"
    }
   ],
   "source": [
    "pop14_16.shape"
   ]
  },
  {
   "cell_type": "code",
   "execution_count": 355,
   "metadata": {},
   "outputs": [],
   "source": [
    "# sample df is made of records where RCx occurred\n",
    "sample12_14 = pop12_14.dropna()\n",
    "sample13_15 = pop13_15.dropna()\n",
    "sample14_16 = pop14_16.dropna()\n",
    "\n",
    "population12_14 = pop12_14[pop12_14.RCx13 != 1]\n",
    "population13_15 = pop13_15[pop13_15.RCx14 != 1]\n",
    "population14_16 = pop14_16[pop14_16.RCx15 != 1]"
   ]
  },
  {
   "cell_type": "code",
   "execution_count": 356,
   "metadata": {},
   "outputs": [
    {
     "data": {
      "text/plain": [
       "(8121, 6)"
      ]
     },
     "execution_count": 356,
     "metadata": {},
     "output_type": "execute_result"
    }
   ],
   "source": [
    "population12_14.shape"
   ]
  },
  {
   "cell_type": "code",
   "execution_count": 357,
   "metadata": {},
   "outputs": [
    {
     "data": {
      "text/plain": [
       "(8551, 6)"
      ]
     },
     "execution_count": 357,
     "metadata": {},
     "output_type": "execute_result"
    }
   ],
   "source": [
    "population13_15.shape"
   ]
  },
  {
   "cell_type": "code",
   "execution_count": 358,
   "metadata": {},
   "outputs": [
    {
     "data": {
      "text/plain": [
       "(8518, 6)"
      ]
     },
     "execution_count": 358,
     "metadata": {},
     "output_type": "execute_result"
    }
   ],
   "source": [
    "population14_16.shape"
   ]
  },
  {
   "cell_type": "code",
   "execution_count": 359,
   "metadata": {},
   "outputs": [],
   "source": [
    "sample12_14_diff = sample12_14['difference']\n",
    "sample13_15_diff = sample13_15['difference']\n",
    "sample14_16_diff = sample14_16['difference']"
   ]
  },
  {
   "cell_type": "code",
   "execution_count": 360,
   "metadata": {},
   "outputs": [
    {
     "data": {
      "text/plain": [
       "count    1148.000000\n",
       "mean        7.197038\n",
       "std        33.173268\n",
       "min      -247.400000\n",
       "25%        -2.600000\n",
       "50%         7.150000\n",
       "75%        17.625000\n",
       "max       165.900000\n",
       "Name: difference, dtype: float64"
      ]
     },
     "execution_count": 360,
     "metadata": {},
     "output_type": "execute_result"
    }
   ],
   "source": [
    "sample12_14_diff.describe()"
   ]
  },
  {
   "cell_type": "code",
   "execution_count": 361,
   "metadata": {},
   "outputs": [
    {
     "data": {
      "text/plain": [
       "count    758.000000\n",
       "mean      -0.488127\n",
       "std       32.960562\n",
       "min     -184.600000\n",
       "25%      -11.275000\n",
       "50%       -0.750000\n",
       "75%        7.450000\n",
       "max      192.700000\n",
       "Name: difference, dtype: float64"
      ]
     },
     "execution_count": 361,
     "metadata": {},
     "output_type": "execute_result"
    }
   ],
   "source": [
    "sample13_15_diff.describe()"
   ]
  },
  {
   "cell_type": "code",
   "execution_count": 362,
   "metadata": {},
   "outputs": [
    {
     "data": {
      "text/plain": [
       "count    750.000000\n",
       "mean      -5.660133\n",
       "std       31.844735\n",
       "min     -177.800000\n",
       "25%      -14.475000\n",
       "50%       -6.200000\n",
       "75%        2.600000\n",
       "max      176.200000\n",
       "Name: difference, dtype: float64"
      ]
     },
     "execution_count": 362,
     "metadata": {},
     "output_type": "execute_result"
    }
   ],
   "source": [
    "sample14_16_diff.describe()"
   ]
  },
  {
   "cell_type": "code",
   "execution_count": 363,
   "metadata": {},
   "outputs": [],
   "source": [
    "pop12_14_diff = pop12_14['difference']\n",
    "pop13_15_diff = pop13_15['difference']\n",
    "pop14_16_diff = pop14_16['difference']"
   ]
  },
  {
   "cell_type": "code",
   "execution_count": 364,
   "metadata": {},
   "outputs": [
    {
     "name": "stderr",
     "output_type": "stream",
     "text": [
      "/usr/local/Anaconda3-5.0.0-Linux-x86_64/envs/PUI2016_Python3/lib/python3.5/site-packages/numpy/lib/function_base.py:3403: RuntimeWarning: Invalid value encountered in median\n",
      "  RuntimeWarning)\n"
     ]
    },
    {
     "data": {
      "text/plain": [
       "count    9269.000000\n",
       "mean       10.310077\n",
       "std        34.240756\n",
       "min      -247.400000\n",
       "25%              NaN\n",
       "50%              NaN\n",
       "75%              NaN\n",
       "max       280.100000\n",
       "Name: difference, dtype: float64"
      ]
     },
     "execution_count": 364,
     "metadata": {},
     "output_type": "execute_result"
    }
   ],
   "source": [
    "pop12_14_diff.describe()"
   ]
  },
  {
   "cell_type": "code",
   "execution_count": 365,
   "metadata": {},
   "outputs": [
    {
     "name": "stderr",
     "output_type": "stream",
     "text": [
      "/usr/local/Anaconda3-5.0.0-Linux-x86_64/envs/PUI2016_Python3/lib/python3.5/site-packages/numpy/lib/function_base.py:3403: RuntimeWarning: Invalid value encountered in median\n",
      "  RuntimeWarning)\n"
     ]
    },
    {
     "data": {
      "text/plain": [
       "count    9309.000000\n",
       "mean        0.175013\n",
       "std        31.619721\n",
       "min      -233.400000\n",
       "25%              NaN\n",
       "50%              NaN\n",
       "75%              NaN\n",
       "max       224.300000\n",
       "Name: difference, dtype: float64"
      ]
     },
     "execution_count": 365,
     "metadata": {},
     "output_type": "execute_result"
    }
   ],
   "source": [
    "pop13_15_diff.describe()"
   ]
  },
  {
   "cell_type": "code",
   "execution_count": 366,
   "metadata": {},
   "outputs": [
    {
     "name": "stderr",
     "output_type": "stream",
     "text": [
      "/usr/local/Anaconda3-5.0.0-Linux-x86_64/envs/PUI2016_Python3/lib/python3.5/site-packages/numpy/lib/function_base.py:3403: RuntimeWarning: Invalid value encountered in median\n",
      "  RuntimeWarning)\n"
     ]
    },
    {
     "data": {
      "text/plain": [
       "count    9268.000000\n",
       "mean       -5.919465\n",
       "std        29.840313\n",
       "min      -269.800000\n",
       "25%              NaN\n",
       "50%              NaN\n",
       "75%              NaN\n",
       "max       251.400000\n",
       "Name: difference, dtype: float64"
      ]
     },
     "execution_count": 366,
     "metadata": {},
     "output_type": "execute_result"
    }
   ],
   "source": [
    "pop14_16_diff.describe()"
   ]
  },
  {
   "cell_type": "code",
   "execution_count": 367,
   "metadata": {},
   "outputs": [],
   "source": [
    "# using scipy.stats.ttest_ind_from_stats\n",
    "# arguments includ: ttest_ind_from_stats(mean1, std1, nobs1, mean2, std2, nobs2, equal_var=True)\n",
    "ttest13 = ttest_ind_from_stats(pop12_14_diff.mean(), pop12_14_diff.std(), pop12_14_diff.count(), \n",
    "                             sample12_14_diff.mean(), sample12_14_diff.std(), sample12_14_diff.count())\n",
    "\n",
    "ttest14 = ttest_ind_from_stats(pop13_15_diff.mean(), pop13_15_diff.std(), pop13_15_diff.count(), \n",
    "                             sample13_15_diff.mean(), sample13_15_diff.std(), sample13_15_diff.count())\n",
    "\n",
    "ttest15 = ttest_ind_from_stats(pop14_16_diff.mean(), pop14_16_diff.std(), pop14_16_diff.count(), \n",
    "                             sample14_16_diff.mean(), sample14_16_diff.std(), sample14_16_diff.count())"
   ]
  },
  {
   "cell_type": "code",
   "execution_count": 368,
   "metadata": {},
   "outputs": [
    {
     "data": {
      "text/plain": [
       "Ttest_indResult(statistic=2.9156138992046285, pvalue=0.0035574637610890753)"
      ]
     },
     "execution_count": 368,
     "metadata": {},
     "output_type": "execute_result"
    }
   ],
   "source": [
    "ttest13"
   ]
  },
  {
   "cell_type": "code",
   "execution_count": 369,
   "metadata": {},
   "outputs": [
    {
     "data": {
      "text/plain": [
       "Ttest_indResult(statistic=0.5534436708704239, pvalue=0.57997193526538182)"
      ]
     },
     "execution_count": 369,
     "metadata": {},
     "output_type": "execute_result"
    }
   ],
   "source": [
    "ttest14"
   ]
  },
  {
   "cell_type": "code",
   "execution_count": 370,
   "metadata": {},
   "outputs": [
    {
     "data": {
      "text/plain": [
       "Ttest_indResult(statistic=-0.22774133326603771, pvalue=0.81985198594378894)"
      ]
     },
     "execution_count": 370,
     "metadata": {},
     "output_type": "execute_result"
    }
   ],
   "source": [
    "ttest15"
   ]
  },
  {
   "cell_type": "code",
   "execution_count": null,
   "metadata": {},
   "outputs": [],
   "source": []
  }
 ],
 "metadata": {
  "kernelspec": {
   "display_name": "PUI2016_Python3",
   "language": "python",
   "name": "pui2016_python3"
  },
  "language_info": {
   "codemirror_mode": {
    "name": "ipython",
    "version": 3
   },
   "file_extension": ".py",
   "mimetype": "text/x-python",
   "name": "python",
   "nbconvert_exporter": "python",
   "pygments_lexer": "ipython3",
   "version": "3.5.4"
  }
 },
 "nbformat": 4,
 "nbformat_minor": 2
}
